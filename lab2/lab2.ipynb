{
 "metadata": {
  "name": "",
  "signature": "sha256:6c0c05350e2360763165dc1bbf1f7ad6a3a37e07c3c49f32146b32b2fc7f54bc"
 },
 "nbformat": 3,
 "nbformat_minor": 0,
 "worksheets": [
  {
   "cells": [
    {
     "cell_type": "markdown",
     "metadata": {},
     "source": [
      "# Lab 2: Inference in Graphical Models\n",
      "\n",
      "### Machine Learning 2, Februari 2015\n",
      "\n",
      "* The lab exercises should be made in groups of two people.\n",
      "* The deadline is Sunday, March 8, 23:59.\n",
      "* Assignment should be sent to D.P.Kingma at uva dot nl (Durk Kingma). The subject line of your email should be \"[MLPM2014] lab#_lastname1\\_lastname2\\\". \n",
      "* Put your and your teammate's names in the body of the email\n",
      "* Attach the .IPYNB (IPython Notebook) file containing your code and answers. Naming of the file follows the same rule as the subject line. For example, if the subject line is \"[MLPM2014] lab01\\_Kingma\\_Hu\", the attached file should be \"lab01\\_Kingma\\_Hu.ipynb\". Only use underscores (\"\\_\") to connect names, otherwise the files cannot be parsed.\n",
      "\n",
      "Notes on implementation:\n",
      "\n",
      "* You should write your code and answers in an IPython Notebook: http://ipython.org/notebook.html. If you have problems, please contact us.\n",
      "* Among the first lines of your notebook should be \"%pylab inline\". This imports all required modules, and your plots will appear inline.\n",
      "* NOTE: test your code and make sure we can run your notebook / scripts!"
     ]
    },
    {
     "cell_type": "markdown",
     "metadata": {},
     "source": [
      "### Introduction\n",
      "In this assignment, we will implement the sum-product and max-sum algorithms for factor graphs over discrete variables. The relevant theory is covered in chapter 8 of Bishop's PRML book, in particular section 8.4. Read this chapter carefuly before continuing!\n",
      "\n",
      "We will first implement sum-product and max-sum and apply it to a simple poly-tree structured factor graph for medical diagnosis. Then, we will implement a loopy version of the algorithms and use it for image denoising.\n",
      "\n",
      "For this assignment we recommended you stick to numpy ndarrays (constructed with np.array, np.zeros, np.ones, etc.) as opposed to numpy matrices, because arrays can store n-dimensional arrays whereas matrices only work for 2d arrays. We need n-dimensional arrays in order to store conditional distributions with more than 1 conditioning variable. If you want to perform matrix multiplication on arrays, use the np.dot function; all infix operators including *, +, -, work element-wise on arrays."
     ]
    },
    {
     "cell_type": "markdown",
     "metadata": {},
     "source": [
      "## Part 1: The sum-product algorithm\n",
      "\n",
      "We will implement a datastructure to store a factor graph and to facilitate computations on this graph. Recall that a factor graph consists of two types of nodes, factors and variables. Below you will find some classes for these node types to get you started. Carefully inspect this code and make sure you understand what it does; you will have to build on it later."
     ]
    },
    {
     "cell_type": "code",
     "collapsed": false,
     "input": [
      "%pylab inline\n",
      "class Node(object):\n",
      "    \"\"\"\n",
      "    Base-class for Nodes in a factor graph. Only instantiate sub-classes of Node.\n",
      "    \"\"\"\n",
      "    def __init__(self, name):\n",
      "        # A name for this Node, for printing purposes\n",
      "        self.name = name\n",
      "        \n",
      "        # Neighbours in the graph, identified with their index in this list.\n",
      "        # i.e. self.neighbours contains neighbour 0 through len(self.neighbours) - 1.\n",
      "        self.neighbours = []\n",
      "        \n",
      "        # Reset the node-state (not the graph topology)\n",
      "        self.reset()\n",
      "        \n",
      "    def reset(self):\n",
      "        # Incoming messages; a dictionary mapping neighbours to messages.\n",
      "        # That is, it maps  Node -> np.ndarray.\n",
      "        self.in_msgs = {}\n",
      "        \n",
      "        # A set of neighbours for which this node has pending messages.\n",
      "        # We use a python set object so we don't have to worry about duplicates.\n",
      "        self.pending = set([])\n",
      "\n",
      "    def add_neighbour(self, nb):\n",
      "        self.neighbours.append(nb)\n",
      "\n",
      "    def send_sp_msg(self, other):\n",
      "        # To be implemented in subclass.\n",
      "        raise Exception('Method send_sp_msg not implemented in base-class Node')\n",
      "   \n",
      "    def send_ms_msg(self, other):\n",
      "        # To be implemented in subclass.\n",
      "        raise Exception('Method send_ms_msg not implemented in base-class Node')\n",
      "    \n",
      "    def receive_msg(self, other, msg):\n",
      "        # Store the incoming message, replacing previous messages from the same node\n",
      "        self.in_msgs[other] = msg\n",
      "\n",
      "        #Different implementation for loopy and non-loopy propagation\n",
      "        # self.pending.update(...)\n",
      "        \n",
      "        #loopy propagation\n",
      "        pending_neighbours = list(self.neighbours)\n",
      "        pending_neighbours.remove(other)\n",
      "        self.pending.update(pending_neighbours)\n",
      "        \n",
      "        #non-loopy propagation\n",
      "        #BAD code - refactor\n",
      "        for neighbour in self.neighbours:\n",
      "            if neighbour in self.in_msgs.keys() and len(self.in_msgs) == self.f.ndim:\n",
      "                self.pending.update(neighbour)\n",
      "            elif neighour not in self.in_msgs.keys() and len(self.in_msgs) == (self.f.ndim - 1):\n",
      "                self.pending.update(neighbour)\n",
      "    \n",
      "    def __str__(self):\n",
      "        # This is printed when using 'print node_instance'\n",
      "        return self.name\n",
      "\n",
      "\n",
      "class Variable(Node):\n",
      "    def __init__(self, name, num_states):\n",
      "        \"\"\"\n",
      "        Variable node constructor.\n",
      "        Args:\n",
      "            name: a name string for this node. Used for printing. \n",
      "            num_states: the number of states this variable can take.\n",
      "            Allowable states run from 0 through (num_states - 1).\n",
      "            For example, for a binary variable num_states=2,\n",
      "            and the allowable states are 0, 1.\n",
      "        \"\"\"\n",
      "        self.num_states = num_states\n",
      "        \n",
      "        # Call the base-class constructor\n",
      "        super(Variable, self).__init__(name)\n",
      "    \n",
      "    def set_observed(self, observed_state):\n",
      "        \"\"\"\n",
      "        Set this variable to an observed state.\n",
      "        Args:\n",
      "            observed_state: an integer value in [0, self.num_states - 1].\n",
      "        \"\"\"\n",
      "        # Observed state is represented as a 1-of-N variable\n",
      "        # Could be 0.0 for sum-product, but log(0.0) = -inf so a tiny value is preferable for max-sum\n",
      "        self.observed_state[:] = 0.000001\n",
      "        self.observed_state[observed_state] = 1.0\n",
      "        \n",
      "    def set_latent(self):\n",
      "        \"\"\"\n",
      "        Erase an observed state for this variable and consider it latent again.\n",
      "        \"\"\"\n",
      "        # No state is preferred, so set all entries of observed_state to 1.0\n",
      "        # Using this representation we need not differentiate between observed and latent\n",
      "        # variables when sending messages.\n",
      "        self.observed_state[:] = 1.0\n",
      "        \n",
      "    def reset(self):\n",
      "        super(Variable, self).reset()\n",
      "        self.observed_state = np.ones(self.num_states)\n",
      "        \n",
      "    def marginal(self, Z=None):\n",
      "        \"\"\"\n",
      "        Compute the marginal distribution of this Variable.\n",
      "        It is assumed that message passing has completed when this function is called.\n",
      "        Args:\n",
      "            Z: an optional normalization constant can be passed in. If None is passed, Z is computed.\n",
      "        Returns: marginal, Z. The first is a numpy array containing the normalized marginal distribution.\n",
      "         Z is either equal to the input Z, or computed in this function (if Z=None was passed).\n",
      "        \"\"\"\n",
      "        # TODO: compute marginal\n",
      "        assert(len(self.in_msgs) == self.f.ndim)\n",
      "        msg_product = np.multiply.reduce(np.ix_(*self.in_msgs))\n",
      "        \n",
      "        #Check if marginalizing goes right\n",
      "        value = np.sum(msg_product, axis=1)\n",
      "        \n",
      "        #compute Z\n",
      "\n",
      "        \n",
      "        return None, Z\n",
      "    \n",
      "    def send_sp_msg(self, other):\n",
      "        # TODO: implement Variable -> Factor message for sum-product\n",
      "        if other in self.in_msgs.keys():\n",
      "            assert(len(self.in_msgs) == self.f.ndim)\n",
      "        else\n",
      "            assert(len(self.in_msgs) == (self.f.ndim - 1))\n",
      "            \n",
      "            \n",
      "        msg_product = np.multiply.reduce(np.ix_(*self.in_msgs))\n",
      "        \n",
      "        other.receive_msg(self,marginals)\n",
      "        self.pending.remove(other)\n",
      "            \n",
      "       \n",
      "    def send_ms_msg(self, other):\n",
      "        # TODO: implement Variable -> Factor message for max-sum\n",
      "        pass\n",
      "\n",
      "class Factor(Node):\n",
      "    def __init__(self, name, f, neighbours):\n",
      "        \"\"\"\n",
      "        Factor node constructor.\n",
      "        Args:\n",
      "            name: a name string for this node. Used for printing\n",
      "            f: a numpy.ndarray with N axes, where N is the number of neighbours.\n",
      "               That is, the axes of f correspond to variables, and the index along that axes corresponds to a value of that variable.\n",
      "               Each axis of the array should have as many entries as the corresponding neighbour variable has states.\n",
      "            neighbours: a list of neighbouring Variables. Bi-directional connections are created.\n",
      "        \"\"\"\n",
      "        # Call the base-class constructor\n",
      "        super(Factor, self).__init__(name)\n",
      "\n",
      "        assert len(neighbours) == f.ndim, 'Factor function f should accept as many arguments as this Factor node has neighbours'\n",
      "        \n",
      "        for nb_ind in range(len(neighbours)):\n",
      "            nb = neighbours[nb_ind]\n",
      "            assert f.shape[nb_ind] == nb.num_states, 'The range of the factor function f is invalid for input %i %s' % (nb_ind, nb.name)\n",
      "            self.add_neighbour(nb)\n",
      "            nb.add_neighbour(self)\n",
      "\n",
      "        self.f = f\n",
      "        \n",
      "    def send_sp_msg(self, other):\n",
      "        # TODO: implement Factor -> Variable message for sum-product\n",
      "        \n",
      "        #Check if all messages from all neighbors except other have been received\n",
      "        msgs = self.in_msgs.keys()\n",
      "        if other in self.in_msgs.keys():\n",
      "            del msgs[other]\n",
      "\n",
      "        assert(len(self.in_msgs) == (self.f.ndim - 1)), \"Not all necessary messages have been received\"\n",
      "        \n",
      "            \n",
      "        #Take the product of incoming messages of all other variables\n",
      "        msg_product = np.multiply.reduce(np.ix_(*self.in_msgs))\n",
      "        \n",
      "        #multiply by the factor associated with that node\n",
      "        factor_msg_product = np.tensordot(msg_product,self.f, axis=0)\n",
      "        \n",
      "        #Marginalize over all of the variables associated with the incoming messages\n",
      "        marginals = np.sum(factor_msg_product, axis=1)\n",
      "        \n",
      "        other.receive_msg(self,marginals)\n",
      "        self.pending.remove(other)\n",
      "           \n",
      "    def send_ms_msg(self, other):\n",
      "        # TODO: implement Factor -> Variable message for max-sum\n",
      "        pass\n"
     ],
     "language": "python",
     "metadata": {},
     "outputs": []
    },
    {
     "cell_type": "markdown",
     "metadata": {},
     "source": [
      "### 1.1 Instantiate network (10 points)\n",
      "Convert the directed graphical model (\"Bayesian Network\") shown below to a factor graph. Instantiate this graph by creating Variable and Factor instances and linking them according to the graph structure. \n",
      "To instantiate the factor graph, first create the Variable nodes and then create Factor nodes, passing a list of neighbour Variables to each Factor.\n",
      "Use the following prior and conditional probabilities.\n",
      "\n",
      "$$\n",
      "p(\\verb+Influenza+) = 0.05 \\\\\\\\\n",
      "p(\\verb+Smokes+) = 0.2 \\\\\\\\\n",
      "$$\n",
      "\n",
      "$$\n",
      "p(\\verb+SoreThroat+ = 1 | \\verb+Influenza+ = 1) = 0.3 \\\\\\\\\n",
      "p(\\verb+SoreThroat+ = 1 | \\verb+Influenza+ = 0) = 0.001 \\\\\\\\\n",
      "p(\\verb+Fever+ = 1| \\verb+Influenza+ = 1) = 0.9 \\\\\\\\\n",
      "p(\\verb+Fever+ = 1| \\verb+Influenza+ = 0) = 0.05 \\\\\\\\\n",
      "p(\\verb+Bronchitis+ = 1 | \\verb+Influenza+ = 1, \\verb+Smokes+ = 1) = 0.99 \\\\\\\\\n",
      "p(\\verb+Bronchitis+ = 1 | \\verb+Influenza+ = 1, \\verb+Smokes+ = 0) = 0.9 \\\\\\\\\n",
      "p(\\verb+Bronchitis+ = 1 | \\verb+Influenza+ = 0, \\verb+Smokes+ = 1) = 0.7 \\\\\\\\\n",
      "p(\\verb+Bronchitis+ = 1 | \\verb+Influenza+ = 0, \\verb+Smokes+ = 0) = 0.0001 \\\\\\\\\n",
      "p(\\verb+Coughing+ = 1| \\verb+Bronchitis+ = 1) = 0.8 \\\\\\\\\n",
      "p(\\verb+Coughing+ = 1| \\verb+Bronchitis+ = 0) = 0.07 \\\\\\\\\n",
      "p(\\verb+Wheezing+ = 1| \\verb+Bronchitis+ = 1) = 0.6 \\\\\\\\\n",
      "p(\\verb+Wheezing+ = 1| \\verb+Bronchitis+ = 0) = 0.001 \\\\\\\\\n",
      "$$"
     ]
    },
    {
     "cell_type": "code",
     "collapsed": false,
     "input": [
      "# Instantiate Variable nodes\n",
      "I = Variable('Influenza',2)\n",
      "SM= Variable('Smokes',2)\n",
      "ST= Variable('SoreThroat',2)\n",
      "F = Variable('Fever',2)\n",
      "B = Variable('Bronchitis',2)\n",
      "C = Variable('Coughing',2)\n",
      "W = Variable('Wheezing',2)\n",
      "\n",
      "# and Factor nodes\n",
      "I_ST  = Factor('I_ST',np.empty((2,2)),[I, S])\n",
      "I_F   = Factor('I_F',np.empty((2,2)),[I,F])\n",
      "SMI_B  = Factor('SMI_B',np.empty((2,2,2)),[SM,I,B])\n",
      "B_CW  = Factor('B_CW',np.empty((2,2,2)),[B,C,W])\n",
      "\n",
      "#add priors\n",
      "I_ST.f[1,1] = 0.3\n",
      "I_ST.f[1,0] = 0.7\n",
      "I_ST.f[0,1] = 0.001\n",
      "I_ST.f[0,0] = 0.999\n",
      "\n",
      "I_F.f[1,1] = 0.9\n",
      "I_F.f[1,0] = 0.1\n",
      "I_F.f[0,1] = 0.05\n",
      "I_F.f[0,0] = 0.95\n",
      "\n",
      "SMI_B.f[1,1,1] = 0.99\n",
      "SMI_B.f[1,1,0] = 0.01\n",
      "SMI_B.f[1,0,1] = 0.9\n",
      "SMI_B.f[1,0,0] = 0.1\n",
      "SMI_B.f[0,1,1] = 0.7\n",
      "SMI_B.f[0,1,0] = 0.3\n",
      "SMI_B.f[0,0,1] = 0.0001\n",
      "SMI_B.f[0,0,0] = 0.9999\n",
      "\n",
      "B_CW.f[1,1,1] = 0.8*0.6\n",
      "B_CW.f[1,0,1] = 0.2*0.6\n",
      "B_CW.f[0,1,1] = 0.07*0.001\n",
      "B_CW.f[0,0,1] = 0.93*0.001\n",
      "B_CW.f[1,1,0] = 0.8*0.4\n",
      "B_CW.f[0,1,0] = 0.07*0.999\n",
      "B_CW.f[1,0,0] = 0.2*0.4\n",
      "B_CW.f[0,0,0] = 0.93*0.999\n"
     ],
     "language": "python",
     "metadata": {},
     "outputs": []
    },
    {
     "cell_type": "code",
     "collapsed": false,
     "input": [
      "from IPython.core.display import Image \n",
      "Image(filename='bn.png') "
     ],
     "language": "python",
     "metadata": {},
     "outputs": []
    },
    {
     "cell_type": "markdown",
     "metadata": {},
     "source": [
      "### 1.2 Factor to variable messages (20 points)\n",
      "Write a method `send_sp_msg(self, other)` for the Factor class, that checks if all the information required to pass a message to Variable `other` is present, computes the message and sends it to `other`. \"Sending\" here simply means calling the `receive_msg` function of the receiving node (we will implement this later). The message itself should be represented as a numpy array (np.array) whose length is equal to the number of states of the variable.\n",
      "\n",
      "An elegant and efficient solution can be obtained using the n-way outer product of vectors. This product takes n vectors $\\mathbf{x}^{(1)}, \\ldots, \\mathbf{x}^{(n)}$ and computes a $n$-dimensional tensor (ndarray) whose element $i_0,i_1,...,i_n$ is given by $\\prod_j \\mathbf{x}^{(j)}_{i_j}$. In python, this is realized as `np.multiply.reduce(np.ix_(*vectors))` for a python list `vectors` of 1D numpy arrays. Try to figure out how this statement works -- it contains some useful functional programming techniques. Another function that you may find useful in computing the message is `np.tensordot`."
     ]
    },
    {
     "cell_type": "raw",
     "metadata": {},
     "source": [
      "Done -> untested and checks for all messages (non-loopy)"
     ]
    },
    {
     "cell_type": "markdown",
     "metadata": {},
     "source": [
      "### 1.3 Variable to factor messages (10 points)\n",
      "\n",
      "Write a method `send_sp_message(self, other)` for the Variable class, that checks if all the information required to pass a message to Variable var is present, computes the message and sends it to factor."
     ]
    },
    {
     "cell_type": "raw",
     "metadata": {},
     "source": [
      "Done -> untested and checks for all messages (non-loopy)"
     ]
    },
    {
     "cell_type": "markdown",
     "metadata": {},
     "source": [
      "### 1.4 Compute marginal (10 points)\n",
      "Later in this assignment, we will implement message passing schemes to do inference. Once the message passing has completed, we will want to compute local marginals for each variable.\n",
      "Write the method `marginal` for the Variable class, that computes a marginal distribution over that node."
     ]
    },
    {
     "cell_type": "raw",
     "metadata": {},
     "source": [
      "Needs computation of normalization constant"
     ]
    },
    {
     "cell_type": "markdown",
     "metadata": {},
     "source": [
      "### 1.5 Receiving messages (10 points)\n",
      "In order to implement the loopy and non-loopy message passing algorithms, we need some way to determine which nodes are ready to send messages to which neighbours. To do this in a way that works for both loopy and non-loopy algorithms, we make use of the concept of \"pending messages\", which is explained in Bishop (8.4.7): \n",
      "\"we will say that a (variable or factor)\n",
      "node a has a message pending on its link to a node b if node a has received any\n",
      "message on any of its other links since the last time it send (sic) a message to b. Thus,\n",
      "when a node receives a message on one of its links, this creates pending messages\n",
      "on all of its other links.\"\n",
      "\n",
      "Keep in mind that for the non-loopy algorithm, nodes may not have received any messages on some or all of their links. Therefore, before we say node a has a pending message for node b, we must check that node a has received all messages needed to compute the message that is to be sent to b.\n",
      "\n",
      "Modify the function `receive_msg`, so that it updates the self.pending variable as described above. The member self.pending is a set that is to be filled with Nodes to which self has pending messages. Modify the `send_msg` functions to remove pending messages as they are sent."
     ]
    },
    {
     "cell_type": "raw",
     "metadata": {},
     "source": [
      "Code for loopy and non-loopy, but no way to detect the type of graph"
     ]
    },
    {
     "cell_type": "markdown",
     "metadata": {},
     "source": [
      "### 1.6 Inference Engine (10 points)\n",
      "Write a function `sum_product(node_list)` that runs the sum-product message passing algorithm on a tree-structured factor graph with given nodes. The input parameter `node_list` is a list of all Node instances in the graph, which is assumed to be ordered correctly. That is, the list starts with a leaf node, which can always send a message. Subsequent nodes in `node_list` should be capable of sending a message when the pending messages of preceding nodes in the list have been sent. The sum-product algorithm then proceeds by passing over the list from beginning to end, sending all pending messages at the nodes it encounters. Then, in reverse order, the algorithm traverses the list again and again sends all pending messages at each node as it is encountered. For this to work, you must initialize pending messages for all the leaf nodes, e.g. `influenza_prior.pending.add(influenza)`, where `influenza_prior` is a Factor node corresponding the the prior, `influenza` is a Variable node and the only connection of `influenza_prior` goes to `influenza`.\n",
      "\n",
      "\n"
     ]
    },
    {
     "cell_type": "code",
     "collapsed": false,
     "input": [
      "import itertools\n",
      "def sum_product(node_list):\n",
      "    #Non-loopy\n",
      "    #Add pending messages for the leaf nodes, else pending is always empty\n",
      "    for node in itertools.chain(node_list, reversed(node_list)):\n",
      "        for other in node.pending:\n",
      "            node.send_sp_msg(other)"
     ],
     "language": "python",
     "metadata": {},
     "outputs": []
    },
    {
     "cell_type": "markdown",
     "metadata": {},
     "source": [
      "### 1.7 Observed variables and probabilistic queries (15 points)\n",
      "We will now use the inference engine to answer probabilistic queries. That is, we will set certain variables to observed values, and obtain the marginals over latent variables. We have already provided functions `set_observed` and `set_latent` that manage a member of Variable called `observed_state`. Modify the `Variable.send_msg` and `Variable.marginal` routines that you wrote before, to use `observed_state` so as to get the required marginals when some nodes are observed."
     ]
    },
    {
     "cell_type": "markdown",
     "metadata": {},
     "source": [
      "### 1.8 Sum-product and MAP states (5 points)\n",
      "A maximum a posteriori state (MAP-state) is an assignment of all latent variables that maximizes the probability of latent variables given observed variables:\n",
      "$$\n",
      "\\mathbf{x}_{\\verb+MAP+} = \\arg\\max _{\\mathbf{x}} p(\\mathbf{x} | \\mathbf{y})\n",
      "$$\n",
      "Could we use the sum-product algorithm to obtain a MAP state? If yes, how? If no, why not?\n"
     ]
    },
    {
     "cell_type": "markdown",
     "metadata": {},
     "source": [
      "## Part 2: The max-sum algorithm\n",
      "Next, we implement the max-sum algorithm as described in section 8.4.5 of Bishop."
     ]
    },
    {
     "cell_type": "markdown",
     "metadata": {},
     "source": [
      "### 2.1 Factor to variable messages (10 points)\n",
      "Implement the function `Factor.send_ms_msg` that sends Factor -> Variable messages for the max-sum algorithm. It is analogous to the `Factor.send_sp_msg` function you implemented before."
     ]
    },
    {
     "cell_type": "markdown",
     "metadata": {},
     "source": [
      "### 2.2 Variable to factor messages (10 points)\n",
      "Implement the `Variable.send_ms_msg` function that sends Variable -> Factor messages for the max-sum algorithm."
     ]
    },
    {
     "cell_type": "markdown",
     "metadata": {},
     "source": [
      "### 2.3 Find a MAP state (10 points)\n",
      "\n",
      "Using the same message passing schedule we used for sum-product, implement the max-sum algorithm. For simplicity, we will ignore issues relating to non-unique maxima. So there is no need to implement backtracking; the MAP state is obtained by a per-node maximization (eq. 8.98 in Bishop). Make sure your algorithm works with both latent and observed variables."
     ]
    },
    {
     "cell_type": "markdown",
     "metadata": {},
     "source": [
      "## Part 3: Image Denoising and Loopy BP\n",
      "\n",
      "Next, we will use a loopy version of max-sum to perform denoising on a binary image. The model itself is discussed in Bishop 8.3.3, but we will use loopy max-sum instead of Iterative Conditional Modes as Bishop does.\n",
      "\n",
      "The following code creates some toy data. `im` is a quite large binary image, `test_im` is a smaller synthetic binary image. Noisy versions are also provided."
     ]
    },
    {
     "cell_type": "code",
     "collapsed": false,
     "input": [
      "from pylab import imread, gray\n",
      "# Load the image and binarize\n",
      "im = np.mean(imread('dalmatian1.png'), axis=2) > 0.5\n",
      "imshow(im)\n",
      "gray()\n",
      "\n",
      "# Add some noise\n",
      "noise = np.random.rand(*im.shape) > 0.9\n",
      "noise_im = np.logical_xor(noise, im)\n",
      "figure()\n",
      "imshow(noise_im)\n",
      "\n",
      "test_im = np.zeros((10,10))\n",
      "#test_im[5:8, 3:8] = 1.0\n",
      "#test_im[5,5] = 1.0\n",
      "figure()\n",
      "imshow(test_im)\n",
      "\n",
      "# Add some noise\n",
      "noise = np.random.rand(*test_im.shape) > 0.9\n",
      "noise_test_im = np.logical_xor(noise, test_im)\n",
      "figure()\n",
      "imshow(noise_test_im)"
     ],
     "language": "python",
     "metadata": {},
     "outputs": []
    },
    {
     "cell_type": "markdown",
     "metadata": {},
     "source": [
      "### 3.1 Construct factor graph (10 points)\n",
      "Convert the Markov Random Field (Bishop, fig. 8.31) to a factor graph and instantiate it."
     ]
    },
    {
     "cell_type": "markdown",
     "metadata": {},
     "source": [
      "### 3.2 Loopy max-sum (10 points)\n",
      "Implement the loopy max-sum algorithm, by passing messages from randomly chosen nodes iteratively until no more pending messages are created or a maximum number of iterations is reached. \n",
      "\n",
      "Think of a good way to initialize the messages in the graph."
     ]
    }
   ],
   "metadata": {}
  }
 ]
}